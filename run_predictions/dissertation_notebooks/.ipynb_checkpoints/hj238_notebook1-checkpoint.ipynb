{
 "cells": [
  {
   "cell_type": "code",
   "execution_count": 1,
   "id": "e0ec2f93",
   "metadata": {},
   "outputs": [],
   "source": [
    "# Notes Cell:\n",
    "\n",
    "# written by Henry James - hj238@kent.ac.uk"
   ]
  },
  {
   "cell_type": "code",
   "execution_count": 2,
   "id": "0e938e3b",
   "metadata": {},
   "outputs": [],
   "source": [
    "# Import Cell:\n",
    "\n",
    "import pandas as pd\n",
    "\n",
    "# used for plotting charts\n",
    "%matplotlib inline\n",
    "import matplotlib.pyplot as plt\n",
    "\n",
    "# seaborn is used for styling of charts\n",
    "import seaborn as sns\n",
    "sns.set(style=\"darkgrid\")"
   ]
  },
  {
   "cell_type": "code",
   "execution_count": 3,
   "id": "f24f1c46",
   "metadata": {},
   "outputs": [],
   "source": [
    "# Loading Data Frames:\n",
    "\n",
    "# bpExcelFile = \"C:/Users/Henry/Documents/Work or University/University/Year 4 University/CO620 (Research Project)/5. Actual Data/BP/BP Energy Statistics (all data).xlsx\"\n",
    "# reads the BP Energy Statistics of all time\n",
    "bpExcelFile = \"../../5. Actual Data/BP/Reformatted/BP Primary Energy Consumption Worldwide 1965-2020.xlsx\"\n",
    "\n",
    "bpDF = pd.read_excel(bpExcelFile, sheet_name=[0, 1, 2]);\n",
    "# bpDF = pd.read_csv(bpExcelFile)\n",
    "bpDF_countries = bpDF[0]"
   ]
  },
  {
   "cell_type": "code",
   "execution_count": 4,
   "id": "048ab51e",
   "metadata": {},
   "outputs": [
    {
     "data": {
      "text/html": [
       "<div>\n",
       "<style scoped>\n",
       "    .dataframe tbody tr th:only-of-type {\n",
       "        vertical-align: middle;\n",
       "    }\n",
       "\n",
       "    .dataframe tbody tr th {\n",
       "        vertical-align: top;\n",
       "    }\n",
       "\n",
       "    .dataframe thead th {\n",
       "        text-align: right;\n",
       "    }\n",
       "</style>\n",
       "<table border=\"1\" class=\"dataframe\">\n",
       "  <thead>\n",
       "    <tr style=\"text-align: right;\">\n",
       "      <th></th>\n",
       "      <th>Country</th>\n",
       "      <th>Area</th>\n",
       "      <th>1965</th>\n",
       "      <th>1966</th>\n",
       "      <th>1967</th>\n",
       "      <th>1968</th>\n",
       "      <th>1969</th>\n",
       "      <th>1970</th>\n",
       "      <th>1971</th>\n",
       "      <th>1972</th>\n",
       "      <th>...</th>\n",
       "      <th>2014</th>\n",
       "      <th>2015</th>\n",
       "      <th>2016</th>\n",
       "      <th>2017</th>\n",
       "      <th>2018</th>\n",
       "      <th>2019</th>\n",
       "      <th>2020</th>\n",
       "      <th>Growth rate 2020</th>\n",
       "      <th>Growth Rate 2009-2019</th>\n",
       "      <th>Share</th>\n",
       "    </tr>\n",
       "  </thead>\n",
       "  <tbody>\n",
       "    <tr>\n",
       "      <th>0</th>\n",
       "      <td>Canada</td>\n",
       "      <td>Total North America</td>\n",
       "      <td>4.924317</td>\n",
       "      <td>5.239095</td>\n",
       "      <td>5.480214</td>\n",
       "      <td>5.836056</td>\n",
       "      <td>6.185953</td>\n",
       "      <td>6.624581</td>\n",
       "      <td>6.831992</td>\n",
       "      <td>7.348642</td>\n",
       "      <td>...</td>\n",
       "      <td>14.194166</td>\n",
       "      <td>14.264176</td>\n",
       "      <td>14.107118</td>\n",
       "      <td>14.243266</td>\n",
       "      <td>14.438670</td>\n",
       "      <td>14.451284</td>\n",
       "      <td>13.629232</td>\n",
       "      <td>-0.059461</td>\n",
       "      <td>0.009521</td>\n",
       "      <td>0.024485</td>\n",
       "    </tr>\n",
       "    <tr>\n",
       "      <th>1</th>\n",
       "      <td>Mexico</td>\n",
       "      <td>Total North America</td>\n",
       "      <td>1.050253</td>\n",
       "      <td>1.111572</td>\n",
       "      <td>1.132470</td>\n",
       "      <td>1.232997</td>\n",
       "      <td>1.353689</td>\n",
       "      <td>1.444834</td>\n",
       "      <td>1.519984</td>\n",
       "      <td>1.680466</td>\n",
       "      <td>...</td>\n",
       "      <td>7.696806</td>\n",
       "      <td>7.689258</td>\n",
       "      <td>7.786567</td>\n",
       "      <td>7.898428</td>\n",
       "      <td>7.842417</td>\n",
       "      <td>7.553241</td>\n",
       "      <td>6.475867</td>\n",
       "      <td>-0.144980</td>\n",
       "      <td>0.006194</td>\n",
       "      <td>0.011634</td>\n",
       "    </tr>\n",
       "    <tr>\n",
       "      <th>2</th>\n",
       "      <td>US</td>\n",
       "      <td>Total North America</td>\n",
       "      <td>51.834093</td>\n",
       "      <td>54.739544</td>\n",
       "      <td>56.633850</td>\n",
       "      <td>60.017155</td>\n",
       "      <td>63.108622</td>\n",
       "      <td>65.349036</td>\n",
       "      <td>66.712163</td>\n",
       "      <td>70.032759</td>\n",
       "      <td>...</td>\n",
       "      <td>92.988150</td>\n",
       "      <td>92.086147</td>\n",
       "      <td>91.959826</td>\n",
       "      <td>92.256767</td>\n",
       "      <td>95.638438</td>\n",
       "      <td>94.895969</td>\n",
       "      <td>87.794597</td>\n",
       "      <td>-0.077361</td>\n",
       "      <td>0.005450</td>\n",
       "      <td>0.157724</td>\n",
       "    </tr>\n",
       "    <tr>\n",
       "      <th>3</th>\n",
       "      <td>Argentina</td>\n",
       "      <td>Total S. &amp; Cent. America</td>\n",
       "      <td>1.181996</td>\n",
       "      <td>1.220265</td>\n",
       "      <td>1.255672</td>\n",
       "      <td>1.297983</td>\n",
       "      <td>1.341503</td>\n",
       "      <td>1.271248</td>\n",
       "      <td>1.347824</td>\n",
       "      <td>1.364778</td>\n",
       "      <td>...</td>\n",
       "      <td>3.588306</td>\n",
       "      <td>3.656921</td>\n",
       "      <td>3.632425</td>\n",
       "      <td>3.641246</td>\n",
       "      <td>3.589568</td>\n",
       "      <td>3.380709</td>\n",
       "      <td>3.148602</td>\n",
       "      <td>-0.071201</td>\n",
       "      <td>0.008353</td>\n",
       "      <td>0.005657</td>\n",
       "    </tr>\n",
       "    <tr>\n",
       "      <th>4</th>\n",
       "      <td>Brazil</td>\n",
       "      <td>Total S. &amp; Cent. America</td>\n",
       "      <td>0.969469</td>\n",
       "      <td>1.057605</td>\n",
       "      <td>1.095653</td>\n",
       "      <td>1.252840</td>\n",
       "      <td>1.367832</td>\n",
       "      <td>1.585817</td>\n",
       "      <td>1.734259</td>\n",
       "      <td>1.997880</td>\n",
       "      <td>...</td>\n",
       "      <td>12.379609</td>\n",
       "      <td>12.200074</td>\n",
       "      <td>11.885379</td>\n",
       "      <td>12.035744</td>\n",
       "      <td>12.116959</td>\n",
       "      <td>12.421383</td>\n",
       "      <td>12.007999</td>\n",
       "      <td>-0.035921</td>\n",
       "      <td>0.022419</td>\n",
       "      <td>0.021573</td>\n",
       "    </tr>\n",
       "    <tr>\n",
       "      <th>...</th>\n",
       "      <td>...</td>\n",
       "      <td>...</td>\n",
       "      <td>...</td>\n",
       "      <td>...</td>\n",
       "      <td>...</td>\n",
       "      <td>...</td>\n",
       "      <td>...</td>\n",
       "      <td>...</td>\n",
       "      <td>...</td>\n",
       "      <td>...</td>\n",
       "      <td>...</td>\n",
       "      <td>...</td>\n",
       "      <td>...</td>\n",
       "      <td>...</td>\n",
       "      <td>...</td>\n",
       "      <td>...</td>\n",
       "      <td>...</td>\n",
       "      <td>...</td>\n",
       "      <td>...</td>\n",
       "      <td>...</td>\n",
       "      <td>...</td>\n",
       "    </tr>\n",
       "    <tr>\n",
       "      <th>87</th>\n",
       "      <td>Sri Lanka</td>\n",
       "      <td>Total Asia Pacific</td>\n",
       "      <td>0.023394</td>\n",
       "      <td>0.024210</td>\n",
       "      <td>0.024810</td>\n",
       "      <td>0.025945</td>\n",
       "      <td>0.027186</td>\n",
       "      <td>0.050789</td>\n",
       "      <td>0.047767</td>\n",
       "      <td>0.051635</td>\n",
       "      <td>...</td>\n",
       "      <td>0.271141</td>\n",
       "      <td>0.290904</td>\n",
       "      <td>0.309937</td>\n",
       "      <td>0.326914</td>\n",
       "      <td>0.346188</td>\n",
       "      <td>0.357287</td>\n",
       "      <td>0.326642</td>\n",
       "      <td>-0.088270</td>\n",
       "      <td>0.049453</td>\n",
       "      <td>0.000587</td>\n",
       "    </tr>\n",
       "    <tr>\n",
       "      <th>88</th>\n",
       "      <td>Taiwan</td>\n",
       "      <td>Total Asia Pacific</td>\n",
       "      <td>0.251619</td>\n",
       "      <td>0.269637</td>\n",
       "      <td>0.294464</td>\n",
       "      <td>0.337735</td>\n",
       "      <td>0.354152</td>\n",
       "      <td>0.385793</td>\n",
       "      <td>0.484802</td>\n",
       "      <td>0.517748</td>\n",
       "      <td>...</td>\n",
       "      <td>4.902627</td>\n",
       "      <td>4.898962</td>\n",
       "      <td>4.902460</td>\n",
       "      <td>4.925146</td>\n",
       "      <td>4.991223</td>\n",
       "      <td>4.901727</td>\n",
       "      <td>4.818545</td>\n",
       "      <td>-0.019656</td>\n",
       "      <td>0.009611</td>\n",
       "      <td>0.008657</td>\n",
       "    </tr>\n",
       "    <tr>\n",
       "      <th>89</th>\n",
       "      <td>Thailand</td>\n",
       "      <td>Total Asia Pacific</td>\n",
       "      <td>0.110001</td>\n",
       "      <td>0.131051</td>\n",
       "      <td>0.149160</td>\n",
       "      <td>0.191592</td>\n",
       "      <td>0.202633</td>\n",
       "      <td>0.241032</td>\n",
       "      <td>0.266940</td>\n",
       "      <td>0.324422</td>\n",
       "      <td>...</td>\n",
       "      <td>5.087634</td>\n",
       "      <td>5.206959</td>\n",
       "      <td>5.320910</td>\n",
       "      <td>5.411792</td>\n",
       "      <td>5.527216</td>\n",
       "      <td>5.513491</td>\n",
       "      <td>5.118644</td>\n",
       "      <td>-0.074151</td>\n",
       "      <td>0.029354</td>\n",
       "      <td>0.009196</td>\n",
       "    </tr>\n",
       "    <tr>\n",
       "      <th>90</th>\n",
       "      <td>Vietnam</td>\n",
       "      <td>Total Asia Pacific</td>\n",
       "      <td>0.105819</td>\n",
       "      <td>0.185083</td>\n",
       "      <td>0.255110</td>\n",
       "      <td>0.264528</td>\n",
       "      <td>0.312456</td>\n",
       "      <td>0.325929</td>\n",
       "      <td>0.290573</td>\n",
       "      <td>0.281732</td>\n",
       "      <td>...</td>\n",
       "      <td>2.574476</td>\n",
       "      <td>2.861806</td>\n",
       "      <td>3.088531</td>\n",
       "      <td>3.306803</td>\n",
       "      <td>3.727491</td>\n",
       "      <td>4.166350</td>\n",
       "      <td>4.089000</td>\n",
       "      <td>-0.021247</td>\n",
       "      <td>0.097271</td>\n",
       "      <td>0.007346</td>\n",
       "    </tr>\n",
       "    <tr>\n",
       "      <th>91</th>\n",
       "      <td>Other Asia Pacific</td>\n",
       "      <td>Total Asia Pacific</td>\n",
       "      <td>0.701691</td>\n",
       "      <td>0.743744</td>\n",
       "      <td>0.807049</td>\n",
       "      <td>0.868543</td>\n",
       "      <td>0.921816</td>\n",
       "      <td>0.982125</td>\n",
       "      <td>1.075343</td>\n",
       "      <td>1.115277</td>\n",
       "      <td>...</td>\n",
       "      <td>2.129959</td>\n",
       "      <td>2.218865</td>\n",
       "      <td>2.409798</td>\n",
       "      <td>2.461503</td>\n",
       "      <td>2.500430</td>\n",
       "      <td>3.234864</td>\n",
       "      <td>3.247723</td>\n",
       "      <td>0.001232</td>\n",
       "      <td>0.063028</td>\n",
       "      <td>0.005835</td>\n",
       "    </tr>\n",
       "  </tbody>\n",
       "</table>\n",
       "<p>92 rows × 61 columns</p>\n",
       "</div>"
      ],
      "text/plain": [
       "               Country                      Area       1965       1966  \\\n",
       "0               Canada       Total North America   4.924317   5.239095   \n",
       "1               Mexico       Total North America   1.050253   1.111572   \n",
       "2                   US       Total North America  51.834093  54.739544   \n",
       "3            Argentina  Total S. & Cent. America   1.181996   1.220265   \n",
       "4               Brazil  Total S. & Cent. America   0.969469   1.057605   \n",
       "..                 ...                       ...        ...        ...   \n",
       "87           Sri Lanka        Total Asia Pacific   0.023394   0.024210   \n",
       "88              Taiwan        Total Asia Pacific   0.251619   0.269637   \n",
       "89            Thailand        Total Asia Pacific   0.110001   0.131051   \n",
       "90             Vietnam        Total Asia Pacific   0.105819   0.185083   \n",
       "91  Other Asia Pacific        Total Asia Pacific   0.701691   0.743744   \n",
       "\n",
       "         1967       1968       1969       1970       1971       1972  ...  \\\n",
       "0    5.480214   5.836056   6.185953   6.624581   6.831992   7.348642  ...   \n",
       "1    1.132470   1.232997   1.353689   1.444834   1.519984   1.680466  ...   \n",
       "2   56.633850  60.017155  63.108622  65.349036  66.712163  70.032759  ...   \n",
       "3    1.255672   1.297983   1.341503   1.271248   1.347824   1.364778  ...   \n",
       "4    1.095653   1.252840   1.367832   1.585817   1.734259   1.997880  ...   \n",
       "..        ...        ...        ...        ...        ...        ...  ...   \n",
       "87   0.024810   0.025945   0.027186   0.050789   0.047767   0.051635  ...   \n",
       "88   0.294464   0.337735   0.354152   0.385793   0.484802   0.517748  ...   \n",
       "89   0.149160   0.191592   0.202633   0.241032   0.266940   0.324422  ...   \n",
       "90   0.255110   0.264528   0.312456   0.325929   0.290573   0.281732  ...   \n",
       "91   0.807049   0.868543   0.921816   0.982125   1.075343   1.115277  ...   \n",
       "\n",
       "         2014       2015       2016       2017       2018       2019  \\\n",
       "0   14.194166  14.264176  14.107118  14.243266  14.438670  14.451284   \n",
       "1    7.696806   7.689258   7.786567   7.898428   7.842417   7.553241   \n",
       "2   92.988150  92.086147  91.959826  92.256767  95.638438  94.895969   \n",
       "3    3.588306   3.656921   3.632425   3.641246   3.589568   3.380709   \n",
       "4   12.379609  12.200074  11.885379  12.035744  12.116959  12.421383   \n",
       "..        ...        ...        ...        ...        ...        ...   \n",
       "87   0.271141   0.290904   0.309937   0.326914   0.346188   0.357287   \n",
       "88   4.902627   4.898962   4.902460   4.925146   4.991223   4.901727   \n",
       "89   5.087634   5.206959   5.320910   5.411792   5.527216   5.513491   \n",
       "90   2.574476   2.861806   3.088531   3.306803   3.727491   4.166350   \n",
       "91   2.129959   2.218865   2.409798   2.461503   2.500430   3.234864   \n",
       "\n",
       "         2020  Growth rate 2020  Growth Rate 2009-2019     Share  \n",
       "0   13.629232         -0.059461               0.009521  0.024485  \n",
       "1    6.475867         -0.144980               0.006194  0.011634  \n",
       "2   87.794597         -0.077361               0.005450  0.157724  \n",
       "3    3.148602         -0.071201               0.008353  0.005657  \n",
       "4   12.007999         -0.035921               0.022419  0.021573  \n",
       "..        ...               ...                    ...       ...  \n",
       "87   0.326642         -0.088270               0.049453  0.000587  \n",
       "88   4.818545         -0.019656               0.009611  0.008657  \n",
       "89   5.118644         -0.074151               0.029354  0.009196  \n",
       "90   4.089000         -0.021247               0.097271  0.007346  \n",
       "91   3.247723          0.001232               0.063028  0.005835  \n",
       "\n",
       "[92 rows x 61 columns]"
      ]
     },
     "execution_count": 4,
     "metadata": {},
     "output_type": "execute_result"
    }
   ],
   "source": [
    "bpDF[0]"
   ]
  },
  {
   "cell_type": "code",
   "execution_count": 5,
   "id": "3de1fe4d",
   "metadata": {},
   "outputs": [
    {
     "name": "stdout",
     "output_type": "stream",
     "text": [
      "0     True\n",
      "1     True\n",
      "2     True\n",
      "3     True\n",
      "4     True\n",
      "      ... \n",
      "87    True\n",
      "88    True\n",
      "89    True\n",
      "90    True\n",
      "91    True\n",
      "Name: Area, Length: 92, dtype: bool\n"
     ]
    }
   ],
   "source": [
    "# next to do something about N/A results, and ^ and w\n",
    "bpDF[0].dtypes\n",
    "\n",
    "bpDFCountryNonNum = bpDF[0].Area.str.contains('[^0-9.-]')\n",
    "print(bpDFCountryNonNum)\n",
    "\n",
    "# NOT FINISHED. DOESNT REMOVE N/A RESULTS OR EVEN FIND THEM"
   ]
  },
  {
   "cell_type": "code",
   "execution_count": 6,
   "id": "48a5877c",
   "metadata": {},
   "outputs": [
    {
     "data": {
      "text/plain": [
       "92"
      ]
     },
     "execution_count": 6,
     "metadata": {},
     "output_type": "execute_result"
    }
   ],
   "source": [
    "len(bpDF[0])"
   ]
  },
  {
   "cell_type": "code",
   "execution_count": 7,
   "id": "15131daa",
   "metadata": {},
   "outputs": [
    {
     "data": {
      "text/plain": [
       "0     13.629232\n",
       "1      6.475867\n",
       "2     87.794597\n",
       "3      3.148602\n",
       "4     12.007999\n",
       "        ...    \n",
       "87     0.326642\n",
       "88     4.818545\n",
       "89     5.118644\n",
       "90     4.089000\n",
       "91     3.247723\n",
       "Name: 2020, Length: 92, dtype: float64"
      ]
     },
     "execution_count": 7,
     "metadata": {},
     "output_type": "execute_result"
    }
   ],
   "source": [
    "# shows the data from the column called \"2020\"\n",
    "bpDF_countries[2020]"
   ]
  },
  {
   "cell_type": "code",
   "execution_count": 8,
   "id": "c485f6fb",
   "metadata": {},
   "outputs": [
    {
     "data": {
      "text/plain": [
       "6.475867065205929"
      ]
     },
     "execution_count": 8,
     "metadata": {},
     "output_type": "execute_result"
    }
   ],
   "source": [
    "# shows the data on row 1 of column \"2020\"\n",
    "bpDF_countries[2020][1]"
   ]
  },
  {
   "cell_type": "code",
   "execution_count": 9,
   "id": "6f54b5f2",
   "metadata": {},
   "outputs": [
    {
     "name": "stderr",
     "output_type": "stream",
     "text": [
      "*c* argument looks like a single numeric RGB or RGBA sequence, which should be avoided as value-mapping will have precedence in case its length matches with *x* & *y*.  Please use the *color* keyword-argument or provide a 2D array with a single row if you intend to specify the same RGB or RGBA value for all points.\n"
     ]
    },
    {
     "data": {
      "text/plain": [
       "<AxesSubplot:xlabel='2020', ylabel='Share'>"
      ]
     },
     "execution_count": 9,
     "metadata": {},
     "output_type": "execute_result"
    },
    {
     "data": {
      "image/png": "[encoded data removed]",
      "text/plain": [
       "<Figure size 432x288 with 1 Axes>"
      ]
     },
     "metadata": {},
     "output_type": "display_data"
    }
   ],
   "source": [
    "# shows a scatter plot of 2020 power consumption against the sahre\n",
    "bpDF_countries.plot.scatter(x=2020, y='Share')"
   ]
  },
  {
   "cell_type": "code",
   "execution_count": 10,
   "id": "d0d8c343",
   "metadata": {},
   "outputs": [
    {
     "name": "stderr",
     "output_type": "stream",
     "text": [
      "*c* argument looks like a single numeric RGB or RGBA sequence, which should be avoided as value-mapping will have precedence in case its length matches with *x* & *y*.  Please use the *color* keyword-argument or provide a 2D array with a single row if you intend to specify the same RGB or RGBA value for all points.\n"
     ]
    },
    {
     "data": {
      "text/plain": [
       "<AxesSubplot:xlabel='2020', ylabel='1965'>"
      ]
     },
     "execution_count": 10,
     "metadata": {},
     "output_type": "execute_result"
    },
    {
     "data": {
      "image/png": "[encoded data removed]",
      "text/plain": [
       "<Figure size 432x288 with 1 Axes>"
      ]
     },
     "metadata": {},
     "output_type": "display_data"
    }
   ],
   "source": [
    "bpDF_countries.plot.scatter(x=2020, y=1965)"
   ]
  },
  {
   "cell_type": "code",
   "execution_count": 11,
   "id": "3a49e2bb",
   "metadata": {},
   "outputs": [
    {
     "data": {
      "image/png": "[encoded data removed]",
      "text/plain": [
       "<Figure size 432x288 with 1 Axes>"
      ]
     },
     "metadata": {},
     "output_type": "display_data"
    }
   ],
   "source": [
    "# its going to be hard to show how any country changes over time because each year is a different column\n",
    "# each year is in its own array\n",
    "\n",
    "# first question to answer: comparing each countries' energy consumption from each year\n",
    "# start with adding one country's energy consumption \n",
    "\n",
    "# create two arrays, one with all of the years\n",
    "# another with all of the values\n",
    "\n",
    "test1 = [1965, 1966, 1967]\n",
    "test2 = [4.92, 5.24, 5.48]\n",
    "\n",
    "def plot(x, y, ax, title, y_label):\n",
    "    ax.set_title(title)\n",
    "    ax.set_ylabel(y_label)\n",
    "    ax.plot(x,y)\n",
    "    ax.margins(x=0, y=0)\n",
    "\n",
    "fig, ax = plt.subplots()\n",
    "\n",
    "plot(test1, test2, ax, 'Test', 'Yaxis')\n"
   ]
  },
  {
   "cell_type": "code",
   "execution_count": 27,
   "id": "d12b801c",
   "metadata": {},
   "outputs": [
    {
     "data": {
      "text/plain": [
       "Index([              'Country',                  'Area',\n",
       "                          1965,                    1966,\n",
       "                          1967,                    1968,\n",
       "                          1969,                    1970,\n",
       "                          1971,                    1972,\n",
       "                          1973,                    1974,\n",
       "                          1975,                    1976,\n",
       "                          1977,                    1978,\n",
       "                          1979,                    1980,\n",
       "                          1981,                    1982,\n",
       "                          1983,                    1984,\n",
       "                          1985,                    1986,\n",
       "                          1987,                    1988,\n",
       "                          1989,                    1990,\n",
       "                          1991,                    1992,\n",
       "                          1993,                    1994,\n",
       "                          1995,                    1996,\n",
       "                          1997,                    1998,\n",
       "                          1999,                    2000,\n",
       "                          2001,                    2002,\n",
       "                          2003,                    2004,\n",
       "                          2005,                    2006,\n",
       "                          2007,                    2008,\n",
       "                          2009,                    2010,\n",
       "                          2011,                    2012,\n",
       "                          2013,                    2014,\n",
       "                          2015,                    2016,\n",
       "                          2017,                    2018,\n",
       "                          2019,                    2020,\n",
       "            'Growth rate 2020', 'Growth Rate 2009-2019',\n",
       "                       'Share'],\n",
       "      dtype='object')"
      ]
     },
     "execution_count": 27,
     "metadata": {},
     "output_type": "execute_result"
    }
   ],
   "source": [
    "bpDF_countries.columns"
   ]
  },
  {
   "cell_type": "code",
   "execution_count": 53,
   "id": "b16ba7ba",
   "metadata": {},
   "outputs": [],
   "source": [
    "# adds all of the years to a separate array\n",
    "# could have grabbed the original array and removed the first 2 and last 3 values\n",
    "\n",
    "i = 0\n",
    "bpDF_years_array = []\n",
    "for x in bpDF_countries:\n",
    "    if i > 1:\n",
    "        if i < 58:\n",
    "            bpDF_years_array.append(x)\n",
    "            # print(x)\n",
    "    i = i + 1"
   ]
  },
  {
   "cell_type": "code",
   "execution_count": 52,
   "id": "56993fcb",
   "metadata": {},
   "outputs": [
    {
     "name": "stdout",
     "output_type": "stream",
     "text": [
      "[1965, 1966, 1967, 1968, 1969, 1970, 1971, 1972, 1973, 1974, 1975, 1976, 1977, 1978, 1979, 1980, 1981, 1982, 1983, 1984, 1985, 1986, 1987, 1988, 1989, 1990, 1991, 1992, 1993, 1994, 1995, 1996, 1997, 1998, 1999, 2000, 2001, 2002, 2003, 2004, 2005, 2006, 2007, 2008, 2009, 2010, 2011, 2012, 2013, 2014, 2015, 2016, 2017, 2018, 2019, 2020]\n"
     ]
    }
   ],
   "source": [
    "print(bpDF_years_array)"
   ]
  },
  {
   "cell_type": "code",
   "execution_count": null,
   "id": "34ba737f",
   "metadata": {},
   "outputs": [],
   "source": []
  }
 ],
 "metadata": {
  "kernelspec": {
   "display_name": "Python 3 (ipykernel)",
   "language": "python",
   "name": "python3"
  },
  "language_info": {
   "codemirror_mode": {
    "name": "ipython",
    "version": 3
   },
   "file_extension": ".py",
   "mimetype": "text/x-python",
   "name": "python",
   "nbconvert_exporter": "python",
   "pygments_lexer": "ipython3",
   "version": "3.9.7"
  }
 },
 "nbformat": 4,
 "nbformat_minor": 5
}
