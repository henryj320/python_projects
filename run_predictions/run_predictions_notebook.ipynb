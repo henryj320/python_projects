{
 "cells": [
  {
   "cell_type": "code",
   "execution_count": 1,
   "id": "d549bdf8",
   "metadata": {},
   "outputs": [],
   "source": [
    "# Title: run_predictions\n",
    "# Language: Python\n",
    "# Overview: A Jupyter Notebooks program to chart out your running\n",
    "# progress. In future, it could be adapted into a React page. The\n",
    "# charts would show:\n",
    "    # Weekly distance\n",
    "    # Weekly average running pace\n",
    "    # Number of runs each week\n",
    "\n",
    "# This project could then be added to in order to create predictions.\n",
    "# In other words, \"if you continue with this average, then this is\n",
    "# where you will be in 6 weeks\". You could improve this further to\n",
    "# add your goals and the chart could show what you would need to do.\n",
    "# For example:\n",
    "    # If your goal is to increase pace from 7:30 average to 6:30\n",
    "    # average, then pace needs to increase by x each week (with a\n",
    "    # knowledge on the limit of realistic pace increase)."
   ]
  },
  {
   "cell_type": "code",
   "execution_count": 4,
   "id": "8e7f956f",
   "metadata": {},
   "outputs": [],
   "source": [
    "# Splitting this into cells:\n",
    "# 0. Import Cell\n",
    "# 1. Read the Excel sheet accurately.\n",
    "        # Distance, Time, Date\n",
    "# 2. Make basic calculations\n",
    "        # Paces, Total Distance, Total Time, Average Pace\n",
    "# 3. Split data into separate weeks - pd_weeks\n",
    "        # One Pandas DataFrame entry per week\n",
    "        # {\n",
    "            # \"Distances\": [],\n",
    "            # \"Times\": [],\n",
    "            # \"Dates\": [],\n",
    "            # \"Run Types\": [],\n",
    "            # \"Paces\": [],\n",
    "            # \"Total Distance\": float,\n",
    "            # \"Total Time\": date(?),\n",
    "            # \"Average Pace\": time(?)\n",
    "        # }\n",
    "# 4. Start making charts:\n",
    "        # Weekly distance\n",
    "        # Weekly average running pace\n",
    "        # Number of runs each week"
   ]
  },
  {
   "cell_type": "code",
   "execution_count": null,
   "id": "a444cdfe",
   "metadata": {},
   "outputs": [],
   "source": []
  }
 ],
 "metadata": {
  "kernelspec": {
   "display_name": "Python 3 (ipykernel)",
   "language": "python",
   "name": "python3"
  },
  "language_info": {
   "codemirror_mode": {
    "name": "ipython",
    "version": 3
   },
   "file_extension": ".py",
   "mimetype": "text/x-python",
   "name": "python",
   "nbconvert_exporter": "python",
   "pygments_lexer": "ipython3",
   "version": "3.9.13"
  }
 },
 "nbformat": 4,
 "nbformat_minor": 5
}
