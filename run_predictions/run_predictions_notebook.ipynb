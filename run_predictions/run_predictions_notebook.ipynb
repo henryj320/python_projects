{
 "cells": [
  {
   "cell_type": "code",
   "execution_count": 7,
   "id": "d549bdf8",
   "metadata": {},
   "outputs": [],
   "source": [
    "# Title: run_predictions\n",
    "# Language: Python\n",
    "# Overview: A Jupyter Notebooks program to chart out your running\n",
    "# progress. In future, it could be adapted into a React page. The\n",
    "# charts would show:\n",
    "    # Weekly distance\n",
    "    # Weekly average running pace\n",
    "    # Number of runs each week\n",
    "\n",
    "# This project could then be added to in order to create predictions.\n",
    "# In other words, \"if you continue with this average, then this is\n",
    "# where you will be in 6 weeks\". You could improve this further to\n",
    "# add your goals and the chart could show what you would need to do.\n",
    "# For example:\n",
    "    # If your goal is to increase pace from 7:30 average to 6:30\n",
    "    # average, then pace needs to increase by x each week (with a\n",
    "    # knowledge on the limit of realistic pace increase)."
   ]
  },
  {
   "cell_type": "code",
   "execution_count": 14,
   "id": "8e7f956f",
   "metadata": {},
   "outputs": [],
   "source": [
    "# Splitting this into cells:\n",
    "# 0. Import Cell\n",
    "# 1. Read the Excel sheet accurately.\n",
    "        # Distance, Time, Date\n",
    "# 2. Make basic calculations\n",
    "        # Paces, Total Distance, Total Time, Average Pace\n",
    "# 3. Split data into separate weeks - pd_weeks\n",
    "        # One Pandas DataFrame entry per week\n",
    "        # {\n",
    "            # \"Distances\": [],\n",
    "            # \"Times\": [],\n",
    "            # \"Dates\": [],\n",
    "            # \"Run Types\": [],\n",
    "            # \"Paces\": [],\n",
    "            # \"Total Distance\": float,\n",
    "            # \"Total Time\": date(?),\n",
    "            # \"Average Pace\": time(?)\n",
    "        # }\n",
    "# 4. Start making charts:\n",
    "        # Weekly distance\n",
    "        # Weekly average running pace\n",
    "        # Number of runs each week\n",
    "# 5. Work on adding predictions"
   ]
  },
  {
   "cell_type": "code",
   "execution_count": 15,
   "id": "a444cdfe",
   "metadata": {},
   "outputs": [],
   "source": [
    "# Import Cell\n",
    "# -----------\n",
    "\n",
    "import pandas as pd\n",
    "\n",
    "# used for plotting charts\n",
    "%matplotlib inline\n",
    "import matplotlib.pyplot as plt\n",
    "\n",
    "# from datetime import *  # Used for times and paces\n",
    "import datetime\n",
    "import math\n",
    "\n",
    "\n",
    "from dataclasses import dataclass"
   ]
  },
  {
   "cell_type": "code",
   "execution_count": 16,
   "id": "1a708a13",
   "metadata": {},
   "outputs": [
    {
     "data": {
      "text/html": [
       "<div>\n",
       "<style scoped>\n",
       "    .dataframe tbody tr th:only-of-type {\n",
       "        vertical-align: middle;\n",
       "    }\n",
       "\n",
       "    .dataframe tbody tr th {\n",
       "        vertical-align: top;\n",
       "    }\n",
       "\n",
       "    .dataframe thead th {\n",
       "        text-align: right;\n",
       "    }\n",
       "</style>\n",
       "<table border=\"1\" class=\"dataframe\">\n",
       "  <thead>\n",
       "    <tr style=\"text-align: right;\">\n",
       "      <th></th>\n",
       "      <th>Week</th>\n",
       "      <th>Date (YYYY-MM-DD)</th>\n",
       "      <th>Distance (Km)</th>\n",
       "      <th>Time (HH:MM:SS)</th>\n",
       "    </tr>\n",
       "  </thead>\n",
       "  <tbody>\n",
       "    <tr>\n",
       "      <th>0</th>\n",
       "      <td>4</td>\n",
       "      <td>2022-12-22</td>\n",
       "      <td>4.5</td>\n",
       "      <td>00:04:30</td>\n",
       "    </tr>\n",
       "    <tr>\n",
       "      <th>1</th>\n",
       "      <td>3</td>\n",
       "      <td>2022-12-21</td>\n",
       "      <td>3.5</td>\n",
       "      <td>00:03:30</td>\n",
       "    </tr>\n",
       "    <tr>\n",
       "      <th>2</th>\n",
       "      <td>2</td>\n",
       "      <td>2022-12-20</td>\n",
       "      <td>2.5</td>\n",
       "      <td>00:02:30</td>\n",
       "    </tr>\n",
       "    <tr>\n",
       "      <th>3</th>\n",
       "      <td>2</td>\n",
       "      <td>2022-12-20</td>\n",
       "      <td>3.0</td>\n",
       "      <td>00:03:00</td>\n",
       "    </tr>\n",
       "    <tr>\n",
       "      <th>4</th>\n",
       "      <td>1</td>\n",
       "      <td>2022-12-19</td>\n",
       "      <td>1.5</td>\n",
       "      <td>00:01:30</td>\n",
       "    </tr>\n",
       "  </tbody>\n",
       "</table>\n",
       "</div>"
      ],
      "text/plain": [
       "   Week Date (YYYY-MM-DD)  Distance (Km) Time (HH:MM:SS)\n",
       "0     4        2022-12-22            4.5        00:04:30\n",
       "1     3        2022-12-21            3.5        00:03:30\n",
       "2     2        2022-12-20            2.5        00:02:30\n",
       "3     2        2022-12-20            3.0        00:03:00\n",
       "4     1        2022-12-19            1.5        00:01:30"
      ]
     },
     "execution_count": 16,
     "metadata": {},
     "output_type": "execute_result"
    }
   ],
   "source": [
    "# Reading the Excel Sheet\n",
    "# -----------------------\n",
    "\n",
    "filename = \"running_excel_test.xlsx\";  # Filename of the .xlsx file.\n",
    "excel_file = pd.read_excel(filename, sheet_name=[0])  # Reading file.\n",
    "\n",
    "excel_file = excel_file[0]  # Sets it to the first sheet.\n",
    "\n",
    "excel_file"
   ]
  },
  {
   "cell_type": "code",
   "execution_count": 26,
   "id": "fff14434",
   "metadata": {},
   "outputs": [
    {
     "name": "stdout",
     "output_type": "stream",
     "text": [
      "[datetime.time(0, 1), datetime.time(0, 1), datetime.time(0, 1), datetime.time(0, 1), datetime.time(0, 1)]\n",
      "[4.5, 3.5, 5.5, 1.5]\n",
      "[1, 1, 2, 1]\n",
      "[4, 3, 2, 2, 1]\n"
     ]
    }
   ],
   "source": [
    "# Calculations\n",
    "# ------------\n",
    "\n",
    "rows = len(excel_file[\"Time (HH:MM:SS)\"])\n",
    "\n",
    "# Paces\n",
    "# =====\n",
    "\n",
    "paces = []\n",
    "\n",
    "# Calculates each pace and adds it to paces[],\n",
    "for x in range(0, rows):\n",
    "    distance = excel_file[\"Distance (Km)\"][x]  # E.g. 2\n",
    "    time = excel_file[\"Time (HH:MM:SS)\"][x]  # E.g. 14\n",
    "\n",
    "    # Splits time into separate values.\n",
    "    time_hours = time.hour\n",
    "    time_minutes = time.minute\n",
    "    time_seconds = time.second\n",
    "\n",
    "    # Calculates the pace_minutes (e.g. 6:45 = 6.75).\n",
    "    pace_minutes = (time_hours * 60) + time_minutes + (time_seconds / 60)\n",
    "    pace_minutes = pace_minutes / distance\n",
    "\n",
    "    # Calculate sthe seconds in pace.\n",
    "    pace_seconds = math.floor(((pace_minutes % 1) * 60))\n",
    "\n",
    "    # Outputs pace as 00:MM:SS.\n",
    "    pace = datetime.time(0, math.floor(pace_minutes) , pace_seconds)\n",
    "\n",
    "    paces.append(pace)\n",
    "\n",
    "\n",
    "# Total Distance and Number of Runs\n",
    "# =================================\n",
    "\n",
    "total_distances = []\n",
    "number_of_runs = []\n",
    "week_numbers = []\n",
    "\n",
    "week_distance = 0\n",
    "runs_this_week = 0\n",
    "week_number = 0\n",
    "for x in range(0, rows):\n",
    "    week = excel_file[\"Week\"][x]  # 3\n",
    "    \n",
    "    # Resets values on a new week and adds previous week to array.\n",
    "    if (week != week_number) & (x != 0):\n",
    "        total_distances.append(week_distance)\n",
    "        week_number = week\n",
    "        week_distance = 0\n",
    "        \n",
    "        number_of_runs.append(runs_this_week)\n",
    "        runs_this_week = 0\n",
    "        \n",
    "    \n",
    "    # Adds the current row to the week's distance\n",
    "    week_distance += excel_file[\"Distance (Km)\"][x]\n",
    "    runs_this_week = runs_this_week + 1\n",
    "    week_numbers.append(week)\n",
    "    \n",
    "    # If on the final row\n",
    "    if x == (rows - 1):\n",
    "        total_distances.append(week_distance)\n",
    "        number_of_runs.append(runs_this_week)\n",
    "\n",
    "\n",
    "\n",
    "\n",
    "\n",
    "#type(time_minutes)\n",
    "print(paces)\n",
    "print(total_distances)\n",
    "print(number_of_runs)\n",
    "print(week_numbers)\n",
    "# excel_file[\"Date (YYYY-MM-DD)\"]\n"
   ]
  },
  {
   "cell_type": "code",
   "execution_count": 27,
   "id": "8490cc7c",
   "metadata": {},
   "outputs": [
    {
     "name": "stdout",
     "output_type": "stream",
     "text": [
      "1\n",
      "1\n",
      "1\n",
      "1\n",
      "1\n"
     ]
    },
    {
     "data": {
      "text/plain": [
       "[Week_Results(week=4, dates=[], distances=[], total_distance=0, paces=datetime.time(0, 1)),\n",
       " Week_Results(week=3, dates=[], distances=[], total_distance=0, paces=[]),\n",
       " Week_Results(week=2, dates=[], distances=[], total_distance=0, paces=[]),\n",
       " Week_Results(week=1, dates=[Timestamp('2022-12-20 00:00:00')], distances=[3.0], total_distance=0, paces=[datetime.time(0, 1)])]"
      ]
     },
     "execution_count": 27,
     "metadata": {},
     "output_type": "execute_result"
    }
   ],
   "source": [
    "# Creating the Data Frames\n",
    "# ------------------------\n",
    "\n",
    "# Data class to store details on each week of running.\n",
    "@dataclass\n",
    "class Week_Results:\n",
    "    week: int\n",
    "    dates: list\n",
    "    distances: list\n",
    "    total_distance: int\n",
    "    paces: list\n",
    "\n",
    "week_one = Week_Results(1, [], [], 1, datetime.time(0, 8, 58))\n",
    "\n",
    "\n",
    "all_week_details = []\n",
    "current_week = 0\n",
    "current_week_details = [\n",
    "    week_numbers[0],  # Week.\n",
    "    [],  # Dates.\n",
    "    [],  # Distances.\n",
    "    0,  # Total Distance.\n",
    "    paces[0]  # Paces.\n",
    "]\n",
    "\n",
    "# For each row in the spreadsheet.\n",
    "for x in range(0, len(week_numbers)):\n",
    "    print(1)\n",
    "    \n",
    "    \n",
    "    # If row is part of the current week.\n",
    "    if week_numbers[x] == current_week:\n",
    "        \n",
    "        # Adding dates\n",
    "        current_week_details[1].append(excel_file[\"Date (YYYY-MM-DD)\"][x])\n",
    "        \n",
    "        # Adding distances\n",
    "        current_week_details[2].append(excel_file[\"Distance (Km)\"][x])\n",
    "        \n",
    "        # Adding paces\n",
    "        current_week_details[4].append(paces[x])\n",
    "        \n",
    "    \n",
    "    elif week_numbers[x] != current_week:    \n",
    "        current_week = week_numbers[x]\n",
    "        current_week_object = Week_Results(\n",
    "            current_week,  # Week.\n",
    "            current_week_details[1],  # Dates.\n",
    "            current_week_details[2],  # Distances.\n",
    "            current_week_details[3],  # Total Distance.\n",
    "            current_week_details[4],  # Paces.\n",
    "        )\n",
    "        \n",
    "        all_week_details.append(current_week_object)\n",
    "        \n",
    "        # Creates a new current_week_details.\n",
    "        current_week_details = [\n",
    "            week_numbers[x],\n",
    "            [],\n",
    "            [],\n",
    "            0,\n",
    "            []\n",
    "        ]\n",
    "\n",
    "all_week_details"
   ]
  },
  {
   "cell_type": "code",
   "execution_count": 12,
   "id": "bb49b560",
   "metadata": {},
   "outputs": [
    {
     "data": {
      "text/plain": [
       "pandas.core.series.Series"
      ]
     },
     "execution_count": 12,
     "metadata": {},
     "output_type": "execute_result"
    }
   ],
   "source": [
    "type(excel_file[\"Time (HH:MM:SS)\"])"
   ]
  },
  {
   "cell_type": "code",
   "execution_count": 13,
   "id": "4132adf4",
   "metadata": {},
   "outputs": [
    {
     "data": {
      "text/plain": [
       "datetime.time"
      ]
     },
     "execution_count": 13,
     "metadata": {},
     "output_type": "execute_result"
    }
   ],
   "source": [
    "type(paces[0])"
   ]
  },
  {
   "cell_type": "code",
   "execution_count": 9,
   "id": "c4ef5362",
   "metadata": {},
   "outputs": [
    {
     "data": {
      "text/plain": [
       "1"
      ]
     },
     "execution_count": 9,
     "metadata": {},
     "output_type": "execute_result"
    }
   ],
   "source": [
    "week_one.week"
   ]
  },
  {
   "cell_type": "code",
   "execution_count": 19,
   "id": "5572c8cf",
   "metadata": {},
   "outputs": [
    {
     "data": {
      "text/html": [
       "<div>\n",
       "<style scoped>\n",
       "    .dataframe tbody tr th:only-of-type {\n",
       "        vertical-align: middle;\n",
       "    }\n",
       "\n",
       "    .dataframe tbody tr th {\n",
       "        vertical-align: top;\n",
       "    }\n",
       "\n",
       "    .dataframe thead th {\n",
       "        text-align: right;\n",
       "    }\n",
       "</style>\n",
       "<table border=\"1\" class=\"dataframe\">\n",
       "  <thead>\n",
       "    <tr style=\"text-align: right;\">\n",
       "      <th></th>\n",
       "      <th>Week</th>\n",
       "      <th>Date (YYYY-MM-DD)</th>\n",
       "      <th>Distance (Km)</th>\n",
       "      <th>Time (HH:MM:SS)</th>\n",
       "    </tr>\n",
       "  </thead>\n",
       "  <tbody>\n",
       "    <tr>\n",
       "      <th>0</th>\n",
       "      <td>4</td>\n",
       "      <td>2022-12-22</td>\n",
       "      <td>4.5</td>\n",
       "      <td>00:04:30</td>\n",
       "    </tr>\n",
       "    <tr>\n",
       "      <th>1</th>\n",
       "      <td>3</td>\n",
       "      <td>2022-12-21</td>\n",
       "      <td>3.5</td>\n",
       "      <td>00:03:30</td>\n",
       "    </tr>\n",
       "    <tr>\n",
       "      <th>2</th>\n",
       "      <td>2</td>\n",
       "      <td>2022-12-20</td>\n",
       "      <td>2.5</td>\n",
       "      <td>00:02:30</td>\n",
       "    </tr>\n",
       "    <tr>\n",
       "      <th>3</th>\n",
       "      <td>2</td>\n",
       "      <td>2022-12-20</td>\n",
       "      <td>3.0</td>\n",
       "      <td>00:03:00</td>\n",
       "    </tr>\n",
       "    <tr>\n",
       "      <th>4</th>\n",
       "      <td>1</td>\n",
       "      <td>2022-12-19</td>\n",
       "      <td>1.5</td>\n",
       "      <td>00:01:30</td>\n",
       "    </tr>\n",
       "  </tbody>\n",
       "</table>\n",
       "</div>"
      ],
      "text/plain": [
       "   Week Date (YYYY-MM-DD)  Distance (Km) Time (HH:MM:SS)\n",
       "0     4        2022-12-22            4.5        00:04:30\n",
       "1     3        2022-12-21            3.5        00:03:30\n",
       "2     2        2022-12-20            2.5        00:02:30\n",
       "3     2        2022-12-20            3.0        00:03:00\n",
       "4     1        2022-12-19            1.5        00:01:30"
      ]
     },
     "execution_count": 19,
     "metadata": {},
     "output_type": "execute_result"
    }
   ],
   "source": [
    "excel_file"
   ]
  },
  {
   "cell_type": "code",
   "execution_count": null,
   "id": "7b8122e7",
   "metadata": {},
   "outputs": [],
   "source": []
  }
 ],
 "metadata": {
  "kernelspec": {
   "display_name": "Python 3 (ipykernel)",
   "language": "python",
   "name": "python3"
  },
  "language_info": {
   "codemirror_mode": {
    "name": "ipython",
    "version": 3
   },
   "file_extension": ".py",
   "mimetype": "text/x-python",
   "name": "python",
   "nbconvert_exporter": "python",
   "pygments_lexer": "ipython3",
   "version": "3.9.13"
  }
 },
 "nbformat": 4,
 "nbformat_minor": 5
}
